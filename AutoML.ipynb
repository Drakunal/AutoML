{
 "cells": [
  {
   "cell_type": "code",
   "execution_count": 1,
   "id": "6807f7ee",
   "metadata": {},
   "outputs": [],
   "source": [
    "import numpy as np\n",
    "import pandas as pd\n",
    "from sklearn.datasets import load_iris\n",
    "from sklearn.model_selection import train_test_split, GridSearchCV\n",
    "from sklearn.ensemble import RandomForestClassifier\n",
    "from sklearn.svm import SVC\n",
    "from sklearn.linear_model import LogisticRegression\n",
    "from sklearn.metrics import accuracy_score, classification_report\n",
    "import joblib"
   ]
  },
  {
   "cell_type": "code",
   "execution_count": 2,
   "id": "a07e2082",
   "metadata": {},
   "outputs": [],
   "source": [
    "# Base Class for Dataset Handling\n",
    "class Dataset:\n",
    "    def __init__(self):\n",
    "        self.data = None\n",
    "        self.target = None\n",
    "        self.X_train = None\n",
    "        self.X_test = None\n",
    "        self.y_train = None\n",
    "        self.y_test = None\n",
    "\n",
    "    def load_data(self):\n",
    "        # Load Iris dataset\n",
    "        iris = load_iris()\n",
    "        self.data = iris.data\n",
    "        self.target = iris.target\n",
    "\n",
    "    def preprocess(self):\n",
    "        # Train-test split\n",
    "        self.X_train, self.X_test, self.y_train, self.y_test = train_test_split(\n",
    "            self.data, self.target, test_size=0.2, random_state=42\n",
    "        )"
   ]
  },
  {
   "cell_type": "code",
   "execution_count": 3,
   "id": "1866fb33",
   "metadata": {},
   "outputs": [],
   "source": [
    "# Base Class for Model Selection and Tuning\n",
    "class ModelSelector:\n",
    "    def __init__(self):\n",
    "        self.models = {\n",
    "            'RandomForest': RandomForestClassifier(),\n",
    "            'SVM': SVC(),\n",
    "            'LogisticRegression': LogisticRegression(max_iter=200)\n",
    "        }\n",
    "        self.best_model = None\n",
    "\n",
    "    def hyperparameter_tuning(self, model, param_grid, X_train, y_train):\n",
    "        grid_search = GridSearchCV(model, param_grid, cv=5, n_jobs=-1, verbose=1)\n",
    "        grid_search.fit(X_train, y_train)\n",
    "        return grid_search.best_estimator_\n",
    "\n",
    "    def select_model(self, X_train, y_train):\n",
    "        # Define parameter grids for each model\n",
    "        param_grids = {\n",
    "            'RandomForest': {'n_estimators': [10, 50, 100], 'max_depth': [3, 5, 7]},\n",
    "            'SVM': {'C': [0.1, 1, 10], 'kernel': ['linear', 'rbf']},\n",
    "            'LogisticRegression': {'C': [0.01, 0.1, 1]}\n",
    "        }\n",
    "\n",
    "        best_score = 0\n",
    "        for model_name, model in self.models.items():\n",
    "            print(f\"Tuning {model_name}...\")\n",
    "            best_model = self.hyperparameter_tuning(model, param_grids[model_name], X_train, y_train)\n",
    "            # Evaluate on training data to get best model\n",
    "            score = accuracy_score(y_train, best_model.predict(X_train))\n",
    "            print(f\"{model_name} score: {score}\")\n",
    "\n",
    "            if score > best_score:\n",
    "                self.best_model = best_model\n",
    "                best_score = score\n",
    "\n",
    "        print(f\"Best Model: {self.best_model}\")\n",
    "        return self.best_model\n"
   ]
  },
  {
   "cell_type": "code",
   "execution_count": null,
   "id": "89eeb204",
   "metadata": {},
   "outputs": [],
   "source": []
  }
 ],
 "metadata": {
  "kernelspec": {
   "display_name": "Python 3 (ipykernel)",
   "language": "python",
   "name": "python3"
  },
  "language_info": {
   "codemirror_mode": {
    "name": "ipython",
    "version": 3
   },
   "file_extension": ".py",
   "mimetype": "text/x-python",
   "name": "python",
   "nbconvert_exporter": "python",
   "pygments_lexer": "ipython3",
   "version": "3.10.11"
  }
 },
 "nbformat": 4,
 "nbformat_minor": 5
}
